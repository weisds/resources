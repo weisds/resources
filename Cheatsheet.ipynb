{
  "nbformat": 4,
  "nbformat_minor": 0,
  "metadata": {
    "colab": {
      "name": "Cheatsheet.ipynb",
      "provenance": [],
      "authorship_tag": "ABX9TyPpjFV9c1WWgMWf/XGy5VhX",
      "include_colab_link": true
    },
    "kernelspec": {
      "name": "python3",
      "display_name": "Python 3"
    },
    "language_info": {
      "name": "python"
    }
  },
  "cells": [
    {
      "cell_type": "markdown",
      "metadata": {
        "id": "view-in-github",
        "colab_type": "text"
      },
      "source": [
        "<a href=\"https://colab.research.google.com/github/weisds/resources/blob/main/Cheatsheet.ipynb\" target=\"_parent\"><img src=\"https://colab.research.google.com/assets/colab-badge.svg\" alt=\"Open In Colab\"/></a>"
      ]
    },
    {
      "cell_type": "markdown",
      "source": [
        "# Processing"
      ],
      "metadata": {
        "id": "WzktJPC7EIz1"
      }
    },
    {
      "cell_type": "markdown",
      "source": [
        "##Splitting num and txt"
      ],
      "metadata": {
        "id": "5_-8bc0bDOoi"
      }
    },
    {
      "cell_type": "code",
      "source": [
        "#let split the data for more targeted handling\n",
        "txt_cols = [cname for cname in X.columns if df[cname].dtype == \"object\"]\n",
        "\n",
        "# Select numerical columns\n",
        "num_cols = [cname for cname in X.columns if df[cname].dtype in ['int64', 'float64']]"
      ],
      "metadata": {
        "id": "uOjkGnQMDX_5"
      },
      "execution_count": null,
      "outputs": []
    },
    {
      "cell_type": "markdown",
      "source": [
        "##Txt data filterin"
      ],
      "metadata": {
        "id": "QJJuJ7AmF0C9"
      }
    },
    {
      "cell_type": "code",
      "source": [
        "#have an overview on the txt unique data, to determine onehot, ordinal, or type transfromation \n",
        "txt_uniques = pd.DataFrame([[i, len(X[i].unique()), X[i].unique()] for i in X[txt_cols]], columns=['Variable', 'number of Unique Values', 'Unique Values']).set_index('Variable')\n",
        "txt_uniques"
      ],
      "metadata": {
        "id": "yNpWZBacF5qm"
      },
      "execution_count": null,
      "outputs": []
    },
    {
      "cell_type": "markdown",
      "source": [
        "##Ordinal"
      ],
      "metadata": {
        "id": "dRP1LcN3Gbod"
      }
    },
    {
      "cell_type": "code",
      "source": [
        "#ordinal data transformation dependng on the education level\n",
        "from sklearn.preprocessing import OrdinalEncoder\n",
        "oen = OrdinalEncoder(categories=[['Basic','Graduation','2n Cycle', 'Master', 'PhD']])\n",
        "X['Education'] = oen.fit_transform(X[['Education']])"
      ],
      "metadata": {
        "id": "4Bzx6g5SGfjh"
      },
      "execution_count": null,
      "outputs": []
    },
    {
      "cell_type": "markdown",
      "source": [
        "##Nominal"
      ],
      "metadata": {
        "id": "-IVcoB83Ghfj"
      }
    },
    {
      "cell_type": "code",
      "source": [
        "from sklearn.preprocessing import OneHotEncoder #OneHot Encoder\n",
        "OH_en = OneHotEncoder(handle_unknown='ignore', sparse=False)\n",
        "imp_txt_cols = OH_en.fit_transform(df[['Marital_Status']])\n",
        "imp_txt_cols = pd.DataFrame(imp_txt_cols)\n",
        "#now we align the index and col names\n",
        "imp_txt_cols.index = df[['Marital_Status']].index\n",
        "imp_txt_cols.columns = OH_en.get_feature_names(['Marital_Status'])\n",
        "X=X.drop(['Marital_Status'], axis=1).join(imp_txt_cols)"
      ],
      "metadata": {
        "id": "VU8ElnC4Gg-5"
      },
      "execution_count": null,
      "outputs": []
    },
    {
      "cell_type": "markdown",
      "source": [
        "### Splits"
      ],
      "metadata": {
        "id": "7mgFbM-EE0ap"
      }
    },
    {
      "cell_type": "code",
      "source": [
        ">>> import numpy as np\n",
        ">>> from sklearn.model_selection import train_test_split"
      ],
      "metadata": {
        "id": "i_aJw6SeE3SA"
      },
      "execution_count": null,
      "outputs": []
    },
    {
      "cell_type": "code",
      "source": [
        "X_train, X_test, y_train, y_test = train_test_split(X, y, test_size=0.33, random_state=42)"
      ],
      "metadata": {
        "id": "_JEk5jhrEQep"
      },
      "execution_count": null,
      "outputs": []
    },
    {
      "cell_type": "markdown",
      "source": [
        "#Modelling"
      ],
      "metadata": {
        "id": "_pPPkxXxAmlp"
      }
    },
    {
      "cell_type": "markdown",
      "source": [
        "##GridSearchCV"
      ],
      "metadata": {
        "id": "FTqTW3rZhlSe"
      }
    },
    {
      "cell_type": "code",
      "source": [
        "parameters = {'kernel':('linear', 'rbf','poly','rbf', 'sigmoid'),\n",
        "              'C': np.logspace(-3, 3, 5),\n",
        "              'gamma':np.logspace(-3, 3, 5)}\n",
        "svm = SVC()\n",
        "svm_cv = GridSearchCV(estimator=svm, param_grid=parameters)\n",
        "svm_cv.fit(X_train, y_train)"
      ],
      "metadata": {
        "id": "HUFfmegChjJK"
      },
      "execution_count": null,
      "outputs": []
    },
    {
      "cell_type": "markdown",
      "source": [
        "##Kmeans"
      ],
      "metadata": {
        "id": "2REgoUgvAdyn"
      }
    },
    {
      "cell_type": "code",
      "execution_count": null,
      "metadata": {
        "id": "y9mC9tsyAXbT"
      },
      "outputs": [],
      "source": [
        "#elbow method to determine the best k\n",
        "inertia = []\n",
        "list_num_clusters = list(range(1,30))\n",
        "for num_clusters in list_num_clusters:\n",
        "    km = KMeans(n_clusters=num_clusters)\n",
        "    km.fit(features)\n",
        "    inertia.append(km.inertia_)\n",
        "    \n",
        "plt.plot(list_num_clusters,inertia)\n",
        "plt.scatter(list_num_clusters,inertia)\n",
        "plt.xlabel('Number of Clusters')\n",
        "plt.ylabel('Inertia');"
      ]
    },
    {
      "cell_type": "markdown",
      "source": [
        "###KNN"
      ],
      "metadata": {
        "id": "QSysoueCKCPq"
      }
    },
    {
      "cell_type": "code",
      "source": [
        "from sklearn.neighbors import KNeighborsClassifier\n",
        "from sklearn.metrics import f1_score\n",
        "f1_scores = []\n",
        "for k in range(1, 50):\n",
        "    # Create a KNN classifier\n",
        "    knn = KNeighborsClassifier(n_neighbors=k)\n",
        "    # Train the classifier\n",
        "    knn = knn.fit(X_train, y_train)\n",
        "    preds = knn.predict(X_test)\n",
        "    # Evaluate the classifier with f1score\n",
        "    f1 = f1_score(preds, y_test)\n",
        "    f1_scores.append((k, round(f1_score(y_test, preds), 4)))\n",
        "# Convert the f1score list to a dataframe\n",
        "f1_results = pd.DataFrame(f1_scores, columns=['K', 'F1 Score'])\n",
        "f1_results.set_index('K').sort_values(by = 'F1 Score', ascending=False)[:5]"
      ],
      "metadata": {
        "id": "xGUl_h7dKEJb"
      },
      "execution_count": null,
      "outputs": []
    },
    {
      "cell_type": "markdown",
      "source": [
        ""
      ],
      "metadata": {
        "id": "H6x1QKJtAcao"
      }
    }
  ]
}